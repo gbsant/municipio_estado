{
 "cells": [
  {
   "cell_type": "code",
   "execution_count": 1,
   "id": "7f9ef8c9-a63e-4149-8487-68c354cebd3f",
   "metadata": {
    "tags": []
   },
   "outputs": [
    {
     "name": "stdout",
     "output_type": "stream",
     "text": [
      "Requirement already satisfied: pandas in /opt/conda/lib/python3.10/site-packages (1.5.3)\n",
      "Requirement already satisfied: python-dateutil>=2.8.1 in /opt/conda/lib/python3.10/site-packages (from pandas) (2.8.2)\n",
      "Requirement already satisfied: pytz>=2020.1 in /opt/conda/lib/python3.10/site-packages (from pandas) (2022.7.1)\n",
      "Requirement already satisfied: numpy>=1.21.0 in /opt/conda/lib/python3.10/site-packages (from pandas) (1.23.5)\n",
      "Requirement already satisfied: six>=1.5 in /opt/conda/lib/python3.10/site-packages (from python-dateutil>=2.8.1->pandas) (1.16.0)\n",
      "Requirement already satisfied: boto3 in /opt/conda/lib/python3.10/site-packages (1.34.77)\n",
      "Requirement already satisfied: jmespath<2.0.0,>=0.7.1 in /opt/conda/lib/python3.10/site-packages (from boto3) (1.0.1)\n",
      "Requirement already satisfied: botocore<1.35.0,>=1.34.77 in /opt/conda/lib/python3.10/site-packages (from boto3) (1.34.77)\n",
      "Requirement already satisfied: s3transfer<0.11.0,>=0.10.0 in /opt/conda/lib/python3.10/site-packages (from boto3) (0.10.1)\n",
      "Requirement already satisfied: urllib3!=2.2.0,<3,>=1.25.4 in /opt/conda/lib/python3.10/site-packages (from botocore<1.35.0,>=1.34.77->boto3) (1.26.14)\n",
      "Requirement already satisfied: python-dateutil<3.0.0,>=2.1 in /opt/conda/lib/python3.10/site-packages (from botocore<1.35.0,>=1.34.77->boto3) (2.8.2)\n",
      "Requirement already satisfied: six>=1.5 in /opt/conda/lib/python3.10/site-packages (from python-dateutil<3.0.0,>=2.1->botocore<1.35.0,>=1.34.77->boto3) (1.16.0)\n"
     ]
    }
   ],
   "source": [
    "# instalacao das biblbiotecas\n",
    "!pip install pandas\n",
    "!pip install boto3"
   ]
  },
  {
   "cell_type": "code",
   "execution_count": 2,
   "id": "3820edce-c7cf-4849-8e6b-82bfcf37c64b",
   "metadata": {
    "tags": []
   },
   "outputs": [],
   "source": [
    "# importacao de bibliotecas\n",
    "import numpy as np\n",
    "import pandas as pd\n",
    "import boto3\n",
    "from io import StringIO \n",
    "from io import BytesIO"
   ]
  },
  {
   "cell_type": "code",
   "execution_count": 3,
   "id": "d1b069bb-0765-4bf7-8bc4-f532940b0a0b",
   "metadata": {
    "tags": []
   },
   "outputs": [],
   "source": [
    "# conexao com MinIo\n",
    "client = boto3.client('s3', \n",
    "    endpoint_url='http://awari-minio-nginx:9000',\n",
    "    aws_access_key_id='rwGPDEWtGtCIQnKe',\n",
    "    aws_secret_access_key='dQWHX0cNzHFM83UZOiKlsPdpNK4PRMtm',\n",
    "    aws_session_token=None,\n",
    "    config=boto3.session.Config(signature_version='s3v4'),\n",
    "    verify=False,\n",
    "    region_name='sa-east-1'\n",
    ")"
   ]
  },
  {
   "cell_type": "code",
   "execution_count": 4,
   "id": "680f6ac3-0160-4e27-884c-8f484050f122",
   "metadata": {
    "tags": []
   },
   "outputs": [],
   "source": [
    "# lendo o dataset estados.csv\n",
    "df_estados = pd.read_csv('exercicios/municipios-estados/csv/estados.csv')"
   ]
  },
  {
   "cell_type": "code",
   "execution_count": 5,
   "id": "4d7c3162-5472-4d3b-97b0-3ffc6c39cbe9",
   "metadata": {
    "tags": []
   },
   "outputs": [],
   "source": [
    "# lendo o dataset municipioss.csv\n",
    "df_municipios = pd.read_csv('exercicios/municipios-estados/csv/municipios.csv')"
   ]
  },
  {
   "cell_type": "code",
   "execution_count": 6,
   "id": "0162be31-1d46-4d1c-b477-20d51682bf84",
   "metadata": {
    "tags": []
   },
   "outputs": [
    {
     "data": {
      "text/html": [
       "<div>\n",
       "<style scoped>\n",
       "    .dataframe tbody tr th:only-of-type {\n",
       "        vertical-align: middle;\n",
       "    }\n",
       "\n",
       "    .dataframe tbody tr th {\n",
       "        vertical-align: top;\n",
       "    }\n",
       "\n",
       "    .dataframe thead th {\n",
       "        text-align: right;\n",
       "    }\n",
       "</style>\n",
       "<table border=\"1\" class=\"dataframe\">\n",
       "  <thead>\n",
       "    <tr style=\"text-align: right;\">\n",
       "      <th></th>\n",
       "      <th>codigo_ibge</th>\n",
       "      <th>nome</th>\n",
       "      <th>latitude</th>\n",
       "      <th>longitude</th>\n",
       "      <th>capital</th>\n",
       "      <th>codigo_uf</th>\n",
       "      <th>siafi_id</th>\n",
       "      <th>ddd</th>\n",
       "      <th>fuso_horario</th>\n",
       "      <th>uf</th>\n",
       "    </tr>\n",
       "  </thead>\n",
       "  <tbody>\n",
       "    <tr>\n",
       "      <th>0</th>\n",
       "      <td>5200050</td>\n",
       "      <td>Abadia de Goiás</td>\n",
       "      <td>-16.7573</td>\n",
       "      <td>-49.4412</td>\n",
       "      <td>0</td>\n",
       "      <td>52</td>\n",
       "      <td>1050</td>\n",
       "      <td>62</td>\n",
       "      <td>America/Sao_Paulo</td>\n",
       "      <td>GO</td>\n",
       "    </tr>\n",
       "    <tr>\n",
       "      <th>1</th>\n",
       "      <td>5200100</td>\n",
       "      <td>Abadiânia</td>\n",
       "      <td>-16.1970</td>\n",
       "      <td>-48.7057</td>\n",
       "      <td>0</td>\n",
       "      <td>52</td>\n",
       "      <td>9201</td>\n",
       "      <td>62</td>\n",
       "      <td>America/Sao_Paulo</td>\n",
       "      <td>GO</td>\n",
       "    </tr>\n",
       "    <tr>\n",
       "      <th>2</th>\n",
       "      <td>5200134</td>\n",
       "      <td>Acreúna</td>\n",
       "      <td>-17.3960</td>\n",
       "      <td>-50.3749</td>\n",
       "      <td>0</td>\n",
       "      <td>52</td>\n",
       "      <td>9645</td>\n",
       "      <td>64</td>\n",
       "      <td>America/Sao_Paulo</td>\n",
       "      <td>GO</td>\n",
       "    </tr>\n",
       "    <tr>\n",
       "      <th>3</th>\n",
       "      <td>5200159</td>\n",
       "      <td>Adelândia</td>\n",
       "      <td>-16.4127</td>\n",
       "      <td>-50.1657</td>\n",
       "      <td>0</td>\n",
       "      <td>52</td>\n",
       "      <td>9769</td>\n",
       "      <td>64</td>\n",
       "      <td>America/Sao_Paulo</td>\n",
       "      <td>GO</td>\n",
       "    </tr>\n",
       "    <tr>\n",
       "      <th>4</th>\n",
       "      <td>5200175</td>\n",
       "      <td>Água Fria de Goiás</td>\n",
       "      <td>-14.9778</td>\n",
       "      <td>-47.7823</td>\n",
       "      <td>0</td>\n",
       "      <td>52</td>\n",
       "      <td>9771</td>\n",
       "      <td>62</td>\n",
       "      <td>America/Sao_Paulo</td>\n",
       "      <td>GO</td>\n",
       "    </tr>\n",
       "    <tr>\n",
       "      <th>...</th>\n",
       "      <td>...</td>\n",
       "      <td>...</td>\n",
       "      <td>...</td>\n",
       "      <td>...</td>\n",
       "      <td>...</td>\n",
       "      <td>...</td>\n",
       "      <td>...</td>\n",
       "      <td>...</td>\n",
       "      <td>...</td>\n",
       "      <td>...</td>\n",
       "    </tr>\n",
       "    <tr>\n",
       "      <th>5565</th>\n",
       "      <td>3306107</td>\n",
       "      <td>Valença</td>\n",
       "      <td>-22.2445</td>\n",
       "      <td>-43.7129</td>\n",
       "      <td>0</td>\n",
       "      <td>33</td>\n",
       "      <td>5921</td>\n",
       "      <td>24</td>\n",
       "      <td>America/Sao_Paulo</td>\n",
       "      <td>RJ</td>\n",
       "    </tr>\n",
       "    <tr>\n",
       "      <th>5566</th>\n",
       "      <td>3306156</td>\n",
       "      <td>Varre-Sai</td>\n",
       "      <td>-20.9276</td>\n",
       "      <td>-41.8701</td>\n",
       "      <td>0</td>\n",
       "      <td>33</td>\n",
       "      <td>2917</td>\n",
       "      <td>22</td>\n",
       "      <td>America/Sao_Paulo</td>\n",
       "      <td>RJ</td>\n",
       "    </tr>\n",
       "    <tr>\n",
       "      <th>5567</th>\n",
       "      <td>3306206</td>\n",
       "      <td>Vassouras</td>\n",
       "      <td>-22.4059</td>\n",
       "      <td>-43.6686</td>\n",
       "      <td>0</td>\n",
       "      <td>33</td>\n",
       "      <td>5923</td>\n",
       "      <td>24</td>\n",
       "      <td>America/Sao_Paulo</td>\n",
       "      <td>RJ</td>\n",
       "    </tr>\n",
       "    <tr>\n",
       "      <th>5568</th>\n",
       "      <td>3306305</td>\n",
       "      <td>Volta Redonda</td>\n",
       "      <td>-22.5202</td>\n",
       "      <td>-44.0996</td>\n",
       "      <td>0</td>\n",
       "      <td>33</td>\n",
       "      <td>5925</td>\n",
       "      <td>24</td>\n",
       "      <td>America/Sao_Paulo</td>\n",
       "      <td>RJ</td>\n",
       "    </tr>\n",
       "    <tr>\n",
       "      <th>5569</th>\n",
       "      <td>5300108</td>\n",
       "      <td>Brasília</td>\n",
       "      <td>-15.7795</td>\n",
       "      <td>-47.9297</td>\n",
       "      <td>1</td>\n",
       "      <td>53</td>\n",
       "      <td>9701</td>\n",
       "      <td>61</td>\n",
       "      <td>America/Sao_Paulo</td>\n",
       "      <td>DF</td>\n",
       "    </tr>\n",
       "  </tbody>\n",
       "</table>\n",
       "<p>5570 rows × 10 columns</p>\n",
       "</div>"
      ],
      "text/plain": [
       "      codigo_ibge                nome  latitude  longitude  capital  \\\n",
       "0         5200050     Abadia de Goiás  -16.7573   -49.4412        0   \n",
       "1         5200100           Abadiânia  -16.1970   -48.7057        0   \n",
       "2         5200134             Acreúna  -17.3960   -50.3749        0   \n",
       "3         5200159           Adelândia  -16.4127   -50.1657        0   \n",
       "4         5200175  Água Fria de Goiás  -14.9778   -47.7823        0   \n",
       "...           ...                 ...       ...        ...      ...   \n",
       "5565      3306107             Valença  -22.2445   -43.7129        0   \n",
       "5566      3306156           Varre-Sai  -20.9276   -41.8701        0   \n",
       "5567      3306206           Vassouras  -22.4059   -43.6686        0   \n",
       "5568      3306305       Volta Redonda  -22.5202   -44.0996        0   \n",
       "5569      5300108            Brasília  -15.7795   -47.9297        1   \n",
       "\n",
       "      codigo_uf  siafi_id  ddd       fuso_horario  uf  \n",
       "0            52      1050   62  America/Sao_Paulo  GO  \n",
       "1            52      9201   62  America/Sao_Paulo  GO  \n",
       "2            52      9645   64  America/Sao_Paulo  GO  \n",
       "3            52      9769   64  America/Sao_Paulo  GO  \n",
       "4            52      9771   62  America/Sao_Paulo  GO  \n",
       "...         ...       ...  ...                ...  ..  \n",
       "5565         33      5921   24  America/Sao_Paulo  RJ  \n",
       "5566         33      2917   22  America/Sao_Paulo  RJ  \n",
       "5567         33      5923   24  America/Sao_Paulo  RJ  \n",
       "5568         33      5925   24  America/Sao_Paulo  RJ  \n",
       "5569         53      9701   61  America/Sao_Paulo  DF  \n",
       "\n",
       "[5570 rows x 10 columns]"
      ]
     },
     "execution_count": 6,
     "metadata": {},
     "output_type": "execute_result"
    }
   ],
   "source": [
    "# juncao dos 2 datasets(estados e municipios)\n",
    "df = df_municipios.merge(df_estados[['uf', 'codigo_uf']], on='codigo_uf')\n",
    "df"
   ]
  },
  {
   "cell_type": "code",
   "execution_count": 7,
   "id": "875e4db7-3390-47a1-92db-dbbd4b71b364",
   "metadata": {
    "tags": []
   },
   "outputs": [],
   "source": [
    "df = df.rename(columns={'nome': 'cidade'})"
   ]
  },
  {
   "cell_type": "code",
   "execution_count": 8,
   "id": "32d0c1d7-6da9-4d27-a761-b6ccb4f799cb",
   "metadata": {
    "tags": []
   },
   "outputs": [
    {
     "name": "stdout",
     "output_type": "stream",
     "text": [
      "<class 'pandas.core.frame.DataFrame'>\n",
      "Int64Index: 5570 entries, 0 to 5569\n",
      "Data columns (total 10 columns):\n",
      " #   Column        Non-Null Count  Dtype  \n",
      "---  ------        --------------  -----  \n",
      " 0   codigo_ibge   5570 non-null   int64  \n",
      " 1   cidade        5570 non-null   object \n",
      " 2   latitude      5570 non-null   float64\n",
      " 3   longitude     5570 non-null   float64\n",
      " 4   capital       5570 non-null   int64  \n",
      " 5   codigo_uf     5570 non-null   int64  \n",
      " 6   siafi_id      5570 non-null   int64  \n",
      " 7   ddd           5570 non-null   int64  \n",
      " 8   fuso_horario  5570 non-null   object \n",
      " 9   uf            5570 non-null   object \n",
      "dtypes: float64(2), int64(5), object(3)\n",
      "memory usage: 478.7+ KB\n"
     ]
    }
   ],
   "source": [
    "df.info()"
   ]
  },
  {
   "cell_type": "code",
   "execution_count": 9,
   "id": "54cb3b9f-3451-4211-aa46-4c184d30e705",
   "metadata": {
    "tags": []
   },
   "outputs": [
    {
     "data": {
      "text/plain": [
       "0       GO\n",
       "246     MG\n",
       "1099    PA\n",
       "1243    CE\n",
       "1427    BA\n",
       "1844    PR\n",
       "2243    SC\n",
       "2538    PE\n",
       "2723    TO\n",
       "2862    MA\n",
       "3079    RN\n",
       "3246    PI\n",
       "3470    RS\n",
       "3967    MT\n",
       "4108    AC\n",
       "4130    SP\n",
       "4775    ES\n",
       "4853    PB\n",
       "5076    AL\n",
       "5178    MS\n",
       "5257    RO\n",
       "5309    RR\n",
       "5324    AM\n",
       "5386    AP\n",
       "5402    SE\n",
       "5477    RJ\n",
       "5569    DF\n",
       "Name: uf, dtype: object"
      ]
     },
     "execution_count": 9,
     "metadata": {},
     "output_type": "execute_result"
    }
   ],
   "source": [
    "uf = df['uf'].drop_duplicates()\n",
    "uf"
   ]
  },
  {
   "cell_type": "code",
   "execution_count": 10,
   "id": "0c6e8bb2-ab5e-4d92-95c3-c355c886da96",
   "metadata": {
    "tags": []
   },
   "outputs": [],
   "source": [
    "# iterar dataframe por uf\n",
    "# para cada linha filtrada do dataframe enviar para para a respectiva pasta com o nome da uf no bucket\n",
    "for uf in df['uf'].unique():\n",
    "    df_tmp = df.loc[ df['uf'] == uf ]\n",
    "    \n",
    "    #armazenando a variavel df_temp em buffer\n",
    "    csv_buffer = StringIO()\n",
    "    df_tmp.to_csv(csv_buffer)\n",
    "    \n",
    "    client.put_object(Body=csv_buffer.getvalue(), Bucket='aula-06', Key=f'municipio_estado/{uf}/cidades.csv')"
   ]
  }
 ],
 "metadata": {
  "kernelspec": {
   "display_name": "Python 3 (ipykernel)",
   "language": "python",
   "name": "python3"
  },
  "language_info": {
   "codemirror_mode": {
    "name": "ipython",
    "version": 3
   },
   "file_extension": ".py",
   "mimetype": "text/x-python",
   "name": "python",
   "nbconvert_exporter": "python",
   "pygments_lexer": "ipython3",
   "version": "3.10.9"
  }
 },
 "nbformat": 4,
 "nbformat_minor": 5
}
